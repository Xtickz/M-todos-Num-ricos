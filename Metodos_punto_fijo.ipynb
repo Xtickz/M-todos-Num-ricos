{
 "cells": [
  {
   "cell_type": "code",
   "execution_count": 1,
   "metadata": {},
   "outputs": [
    {
     "name": "stdout",
     "output_type": "stream",
     "text": [
      "i     p_n     f(p_n)    error\n",
      "1  3.218876  3.271892  1.000000\n",
      "2  3.271892  3.284861  1.000000\n",
      "3  3.284861  3.288040  0.012969\n",
      "4  3.288040  3.288820  0.003179\n",
      "5  3.288820  3.289011  0.000780\n",
      "6  3.289011  3.289058  0.000191\n",
      "7  3.289058  3.289070  0.000047\n",
      "8  3.289070  3.289073  0.000012\n",
      "9  3.289073  3.289073  0.000003\n",
      "10  3.289073  3.289073  0.000001\n"
     ]
    },
    {
     "data": {
      "text/plain": [
       "3.2890732368659954"
      ]
     },
     "execution_count": 1,
     "metadata": {},
     "output_type": "execute_result"
    }
   ],
   "source": [
    "%matplotlib inline\n",
    "import numpy as np\n",
    "import sympy as sp\n",
    "import matplotlib.pyplot as plt\n",
    "x=sp.symbols('x')\n",
    "f=sp.ln(x**2+16)\n",
    "f_np=sp.lambdify(x,f,np)\n",
    "def Bisec(f_np,Tol,x_o):\n",
    "    #n=np.log2((lim_sup-lim_inf)/Tol)\n",
    "    i=0\n",
    "    er=1\n",
    "    res=np.array([])\n",
    "    print(\"i     p_n     f(p_n)    error\")\n",
    "    while er>=Tol:\n",
    "        p_n=f_np(x_o)\n",
    "        res=np.append(res,p_n)\n",
    "        if f_np(x_o)!=x_o:\n",
    "            x_o=p_n\n",
    "            if i>1:\n",
    "                er=abs(res[i]-res[i-1])\n",
    "            else:\n",
    "                pass\n",
    "        else:\n",
    "            er=0\n",
    "        i=i+1\n",
    "        print(i,end=\"  \")\n",
    "        print(\"{:.6f}\".format(p_n),end=\"  \")\n",
    "        print(\"{:.6f}\".format(f_np(p_n)),end=\"  \")\n",
    "        print(\"{:.6f}\".format(er))\n",
    "    return p_n,res\n",
    "raiz,array_p=Bisec(f_np,10**(-6),3)\n",
    "raiz"
   ]
  },
  {
   "cell_type": "code",
   "execution_count": 4,
   "metadata": {},
   "outputs": [
    {
     "data": {
      "text/plain": [
       "[<matplotlib.lines.Line2D at 0x9985370>]"
      ]
     },
     "execution_count": 4,
     "metadata": {},
     "output_type": "execute_result"
    },
    {
     "data": {
      "image/png": "[encoded data removed]",
      "text/plain": [
       "<Figure size 432x288 with 1 Axes>"
      ]
     },
     "metadata": {
      "needs_background": "light"
     },
     "output_type": "display_data"
    }
   ],
   "source": [
    "t=np.linspace(2,3)\n",
    "plt.plot(t,f_np(t))\n",
    "plt.plot(t,t)\n",
    "plt.plot(array_p,np.zeros(array_p.shape),'o',color='red')"
   ]
  },
  {
   "cell_type": "code",
   "execution_count": null,
   "metadata": {},
   "outputs": [],
   "source": []
  }
 ],
 "metadata": {
  "kernelspec": {
   "display_name": "Python 3",
   "language": "python",
   "name": "python3"
  },
  "language_info": {
   "codemirror_mode": {
    "name": "ipython",
    "version": 3
   },
   "file_extension": ".py",
   "mimetype": "text/x-python",
   "name": "python",
   "nbconvert_exporter": "python",
   "pygments_lexer": "ipython3",
   "version": "3.8.5"
  }
 },
 "nbformat": 4,
 "nbformat_minor": 4
}

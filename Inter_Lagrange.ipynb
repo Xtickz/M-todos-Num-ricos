{
 "cells": [
  {
   "cell_type": "code",
   "execution_count": 2,
   "metadata": {},
   "outputs": [
    {
     "name": "stdout",
     "output_type": "stream",
     "text": [
      "Se obtiene el grado del polinomio n = \n",
      " 4\n",
      "Coeficientes del polinomio de Lagrenge :\n",
      "  [ 3.  2. -7.  4. -5.]\n",
      "   4     3     2\n",
      "3 x + 2 x - 7 x + 4 x - 5\n"
     ]
    }
   ],
   "source": [
    "import numpy as np\n",
    "#x = np.array([0,0.2,0.4,0.6,0.8,1])\n",
    "#y = np.array([0,0.03973,0.15577,0.33879,0.57388,0.84147]) \n",
    "x=np.array([0,1,-1,2,-2])\n",
    "y=np.array([-5,-3,-15,39,-9])\n",
    "p=np.size(x)\n",
    "q=p-1\n",
    "z=np.zeros((p,p))\n",
    "for  k in range(0,p):\n",
    "    v=np.array([1])\n",
    "    for j in range(0,p):\n",
    "        if k!=j:\n",
    "            v=np.polymul(v,np.poly(np.array([x[j]])))/(x[k]-x[j])\n",
    "        else:\n",
    "            pass\n",
    "    z[k,:] = v\n",
    "Coef=np.matmul(y,z)\n",
    "print('Se obtiene el grado del polinomio n = \\n',q)\n",
    "print('Coeficientes del polinomio de Lagrenge :\\n ',Coef)\n",
    "print(np.poly1d(Coef))"
   ]
  },
  {
   "cell_type": "code",
   "execution_count": null,
   "metadata": {},
   "outputs": [],
   "source": [
    "x_p=np.array([0,1,-1,2,-2])\n",
    "P_x=np.array([-5,-3,-15,39,-9])\n"
   ]
  }
 ],
 "metadata": {
  "kernelspec": {
   "display_name": "Python 3",
   "language": "python",
   "name": "python3"
  },
  "language_info": {
   "codemirror_mode": {
    "name": "ipython",
    "version": 3
   },
   "file_extension": ".py",
   "mimetype": "text/x-python",
   "name": "python",
   "nbconvert_exporter": "python",
   "pygments_lexer": "ipython3",
   "version": "3.8.5"
  }
 },
 "nbformat": 4,
 "nbformat_minor": 4
}

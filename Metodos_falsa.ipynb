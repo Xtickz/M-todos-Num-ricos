{
 "cells": [
  {
   "cell_type": "code",
   "execution_count": 24,
   "metadata": {},
   "outputs": [
    {
     "name": "stdout",
     "output_type": "stream",
     "text": [
      "i   lim_inf   lim_sup     p_n      f(p_n)\n",
      "1  1.016129  2.000000  1.016129  -0.915368\n",
      "2  1.030675  2.000000  1.030675  -0.831921\n",
      "3  1.043717  2.000000  1.043717  -0.751023\n",
      "4  1.055347  2.000000  1.055347  -0.673781\n",
      "5  1.065667  2.000000  1.065667  -0.601031\n",
      "6  1.074783  2.000000  1.074783  -0.533347\n",
      "7  1.082803  2.000000  1.082803  -0.471058\n",
      "8  1.089831  2.000000  1.089831  -0.414287\n",
      "9  1.095971  2.000000  1.095971  -0.362986\n",
      "10  1.101319  2.000000  1.101319  -0.316975\n",
      "11  1.105965  2.000000  1.105965  -0.275981\n",
      "12  1.109991  2.000000  1.109991  -0.239666\n",
      "13  1.113474  2.000000  1.113474  -0.207657\n",
      "14  1.116482  2.000000  1.116482  -0.179568\n",
      "15  1.119075  2.000000  1.119075  -0.155011\n",
      "16  1.121308  2.000000  1.121308  -0.133613\n",
      "17  1.123229  2.000000  1.123229  -0.115020\n",
      "18  1.124879  2.000000  1.124879  -0.098904\n",
      "19  1.126295  2.000000  1.126295  -0.084964\n",
      "20  1.127511  2.000000  1.127511  -0.072928\n",
      "21  1.128552  2.000000  1.128552  -0.062552\n",
      "22  1.129445  2.000000  1.129445  -0.053620\n",
      "23  1.130210  2.000000  1.130210  -0.045939\n",
      "24  1.130864  2.000000  1.130864  -0.039341\n",
      "25  1.131424  2.000000  1.131424  -0.033677\n",
      "26  1.131904  2.000000  1.131904  -0.028819\n",
      "27  1.132314  2.000000  1.132314  -0.024655\n",
      "28  1.132664  2.000000  1.132664  -0.021087\n",
      "29  1.132964  2.000000  1.132964  -0.018032\n",
      "30  1.133220  2.000000  1.133220  -0.015417\n",
      "31  1.133439  2.000000  1.133439  -0.013179\n",
      "32  1.133626  2.000000  1.133626  -0.011264\n",
      "33  1.133786  2.000000  1.133786  -0.009627\n",
      "34  1.133923  2.000000  1.133923  -0.008227\n",
      "35  1.134040  2.000000  1.134040  -0.007030\n",
      "36  1.134139  2.000000  1.134139  -0.006006\n",
      "37  1.134225  2.000000  1.134225  -0.005132\n",
      "38  1.134298  2.000000  1.134298  -0.004384\n",
      "39  1.134360  2.000000  1.134360  -0.003745\n",
      "40  1.134413  2.000000  1.134413  -0.003199\n",
      "41  1.134458  2.000000  1.134458  -0.002733\n"
     ]
    },
    {
     "data": {
      "text/plain": [
       "1.1344583093766432"
      ]
     },
     "execution_count": 24,
     "metadata": {},
     "output_type": "execute_result"
    }
   ],
   "source": [
    "%matplotlib inline\n",
    "import numpy as np\n",
    "import sympy as sp\n",
    "import matplotlib.pyplot as plt\n",
    "x=sp.symbols('x')\n",
    "f=x**6-x-1\n",
    "f_np=sp.lambdify(x,f,np)\n",
    "def Bisec(f_np,Tol,lim_sup,lim_inf):\n",
    "    n=np.log2((lim_sup-lim_inf)/Tol)\n",
    "    i=0\n",
    "    er=1\n",
    "    res=np.array([])\n",
    "    print(\"i   lim_inf   lim_sup     p_n      f(p_n)\")\n",
    "    while er>=Tol:\n",
    "        p_n=lim_inf-f_np(lim_inf)*((lim_inf-lim_sup)/(f_np(lim_inf)-f_np(lim_sup)))\n",
    "        #(lim_sup*f_np(lim_inf)-lim_inf*f_np(lim_sup))/(f_np(lim_inf)-f_np(lim_sup))\n",
    "        res=np.append(res,p_n)\n",
    "        if f_np(p_n)*f_np(lim_inf)<0:\n",
    "            lim_sup=p_n\n",
    "        else:\n",
    "            lim_inf=p_n\n",
    "        if i>1:\n",
    "            er=abs(res[i]-res[i-1])\n",
    "        else:\n",
    "            pass\n",
    "        i=i+1\n",
    "        print(i,end=\"  \")\n",
    "        print(\"{:.6f}\".format(lim_inf),end=\"  \")\n",
    "        print(\"{:.6f}\".format(lim_sup),end=\"  \")\n",
    "        print(\"{:.6f}\".format(p_n),end=\"  \")\n",
    "        print(\"{:.6f}\".format(f_np(p_n)))\n",
    "    return p_n,res\n",
    "raiz,array_p=Bisec(f_np,0.5*10**(-4),2,1)\n",
    "raiz"
   ]
  },
  {
   "cell_type": "code",
   "execution_count": 26,
   "metadata": {},
   "outputs": [
    {
     "data": {
      "text/plain": [
       "[<matplotlib.lines.Line2D at 0xae9a700>]"
      ]
     },
     "execution_count": 26,
     "metadata": {},
     "output_type": "execute_result"
    },
    {
     "data": {
      "image/png": "[encoded data removed]",
      "text/plain": [
       "<Figure size 432x288 with 1 Axes>"
      ]
     },
     "metadata": {
      "needs_background": "light"
     },
     "output_type": "display_data"
    }
   ],
   "source": [
    "t=np.linspace(1,1.13472)\n",
    "plt.plot(t,f_np(t))\n",
    "plt.plot(array_p,np.zeros(array_p.shape),'o',color='red')"
   ]
  },
  {
   "cell_type": "code",
   "execution_count": 25,
   "metadata": {},
   "outputs": [
    {
     "name": "stdout",
     "output_type": "stream",
     "text": [
      "i   lim_inf   lim_sup     p_n      f(p_n)\n",
      "1  0.642093  1.000000  0.642093  0.482008\n",
      "2  0.808065  1.000000  0.808065  0.108703\n",
      "3  0.839387  1.000000  0.839387  0.020559\n",
      "4  0.845100  1.000000  0.845100  0.003760\n",
      "5  0.846138  1.000000  0.846138  0.000683\n",
      "6  0.846326  1.000000  0.846326  0.000124\n",
      "7  0.846361  1.000000  0.846361  0.000023\n",
      "8  0.846367  1.000000  0.846367  0.000004\n",
      "9  0.846368  1.000000  0.846368  0.000001\n",
      "10  0.846368  1.000000  0.846368  0.000000\n"
     ]
    },
    {
     "data": {
      "text/plain": [
       "0.8463681398545648"
      ]
     },
     "execution_count": 25,
     "metadata": {},
     "output_type": "execute_result"
    }
   ],
   "source": [
    "f_1=-sp.tan(x)-x**2+x+1\n",
    "f_np_1=sp.lambdify(x,f_1,np)\n",
    "raiz_1,array_p_1=Bisec(f_np_1,10**(-6),1,0)\n",
    "raiz_1"
   ]
  },
  {
   "cell_type": "code",
   "execution_count": 23,
   "metadata": {},
   "outputs": [
    {
     "data": {
      "text/plain": [
       "[<matplotlib.lines.Line2D at 0x793ea90>]"
      ]
     },
     "execution_count": 23,
     "metadata": {},
     "output_type": "execute_result"
    },
    {
     "data": {
      "image/png": "[encoded data removed]",
      "text/plain": [
       "<Figure size 432x288 with 1 Axes>"
      ]
     },
     "metadata": {
      "needs_background": "light"
     },
     "output_type": "display_data"
    }
   ],
   "source": [
    "t_1=np.linspace(0,1)\n",
    "plt.plot(t_1,f_np_1(t_1))\n",
    "plt.plot(array_p_1,np.zeros(array_p_1.shape),'o',color='red')"
   ]
  },
  {
   "cell_type": "code",
   "execution_count": null,
   "metadata": {},
   "outputs": [],
   "source": []
  }
 ],
 "metadata": {
  "kernelspec": {
   "display_name": "Python 3",
   "language": "python",
   "name": "python3"
  },
  "language_info": {
   "codemirror_mode": {
    "name": "ipython",
    "version": 3
   },
   "file_extension": ".py",
   "mimetype": "text/x-python",
   "name": "python",
   "nbconvert_exporter": "python",
   "pygments_lexer": "ipython3",
   "version": "3.8.5"
  }
 },
 "nbformat": 4,
 "nbformat_minor": 4
}

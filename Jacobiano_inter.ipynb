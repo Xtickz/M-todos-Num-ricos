{
 "cells": [
  {
   "cell_type": "code",
   "execution_count": 11,
   "metadata": {},
   "outputs": [
    {
     "name": "stdout",
     "output_type": "stream",
     "text": [
      "Matrix([[2*x, -1], [1, exp(y)]])\n",
      "2.59506840749956 1.19013681499911\n",
      "2.02777461318094 0.790047632788722\n",
      "1.93313158567681 0.728040424886194\n",
      "1.93061128150135 0.727253568327144\n",
      "1.93060974812966 0.727253999570934\n",
      "1.93060974812910 0.727253999571113\n"
     ]
    }
   ],
   "source": [
    "import sympy as sp\n",
    "x=sp.symbols('x')\n",
    "y=sp.symbols('y')\n",
    "v=sp.Matrix([x,y])\n",
    "x_t=sp.Matrix([1,2])\n",
    "f=sp.Matrix([x**2-y-3,x+sp.exp(y)-4])\n",
    "J=f.jacobian(v)\n",
    "error=1\n",
    "Tol=0.000001\n",
    "print(J)\n",
    "while error>=Tol:\n",
    "    f_x=f.subs(x,x_t[0]).subs(y,x_t[1])\n",
    "    J_x=J.subs(x,x_t[0]).subs(y,x_t[1])\n",
    "    res=sp.N(x_t-(J_x.inv())*f_x)\n",
    "    error_1=abs(res[0]-x_t[0])\n",
    "    error_2=abs(res[1]-x_t[1])\n",
    "    if error_1>e\n",
    "    x_t[0]=res[0]\n",
    "    x_t[1]=res[1]\n",
    "    print(x_t[0],x_t[1])"
   ]
  },
  {
   "cell_type": "code",
   "execution_count": null,
   "metadata": {},
   "outputs": [],
   "source": []
  }
 ],
 "metadata": {
  "kernelspec": {
   "display_name": "Python 3",
   "language": "python",
   "name": "python3"
  },
  "language_info": {
   "codemirror_mode": {
    "name": "ipython",
    "version": 3
   },
   "file_extension": ".py",
   "mimetype": "text/x-python",
   "name": "python",
   "nbconvert_exporter": "python",
   "pygments_lexer": "ipython3",
   "version": "3.8.5"
  }
 },
 "nbformat": 4,
 "nbformat_minor": 4
}

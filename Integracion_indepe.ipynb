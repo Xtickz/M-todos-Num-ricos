{
 "cells": [
  {
   "cell_type": "code",
   "execution_count": 1,
   "metadata": {},
   "outputs": [
    {
     "name": "stdout",
     "output_type": "stream",
     "text": [
      "0.4295524386795689\n"
     ]
    }
   ],
   "source": [
    "import numpy as np\n",
    "def funci(x,y):\n",
    "    return np.log(x+2*y)\n",
    "def crea_ara(n):\n",
    "    res=np.array([1])\n",
    "    for p in range(1,n):\n",
    "        if p%2==0:\n",
    "            res=np.append(res,2)\n",
    "        else:\n",
    "            res=np.append(res,4)\n",
    "    res=np.append(res,1)\n",
    "    return res\n",
    "def crea_var(n,lim_inf,lim_sup):\n",
    "    res_1=np.array([])\n",
    "    for i in range(0,n+1):\n",
    "        x_i=lim_inf+((lim_sup-lim_inf)/n)*i\n",
    "        res_1=np.append(res_1,x_i)\n",
    "    return res_1\n",
    "def Sim_dos_in(fun_sp,x_inf,x_sup,y_inf,y_sup,n_x,n_y):\n",
    "    ar_x=crea_ara(n_x)\n",
    "    ar_y=crea_ara(n_y)\n",
    "    x_i=crea_var(n_x,x_inf,x_sup)\n",
    "    y_k=crea_var(n_y,y_inf,y_sup)\n",
    "    suma=0\n",
    "    for i in range(0,n_x+1):\n",
    "        for k in range(0,n_y+1):\n",
    "            tot=ar_y[k]*ar_x[i]*fun_sp(x_i[i],y_k[k])\n",
    "            suma=suma+tot\n",
    "    resultado=(((x_sup-x_inf)/n_x)/3)*(((y_sup-y_inf)/n_y)/3)*suma\n",
    "    print(resultado)\n",
    "Sim_dos_in(funci,1.4,2,1,1.5,4,2)"
   ]
  },
  {
   "cell_type": "code",
   "execution_count": null,
   "metadata": {},
   "outputs": [],
   "source": []
  }
 ],
 "metadata": {
  "kernelspec": {
   "display_name": "Python 3",
   "language": "python",
   "name": "python3"
  },
  "language_info": {
   "codemirror_mode": {
    "name": "ipython",
    "version": 3
   },
   "file_extension": ".py",
   "mimetype": "text/x-python",
   "name": "python",
   "nbconvert_exporter": "python",
   "pygments_lexer": "ipython3",
   "version": "3.8.5"
  }
 },
 "nbformat": 4,
 "nbformat_minor": 4
}

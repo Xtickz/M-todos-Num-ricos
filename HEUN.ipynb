{
 "cells": [
  {
   "cell_type": "code",
   "execution_count": 1,
   "metadata": {},
   "outputs": [
    {
     "name": "stdout",
     "output_type": "stream",
     "text": [
      "1.25 1.46875 1.5\n",
      "1.5 0.9638671875 0.91796875\n",
      "1.75 0.572296142578125 0.48193359375\n",
      "0.572296142578125\n"
     ]
    }
   ],
   "source": [
    "import numpy as np\n",
    "def f(x,y):\n",
    "    return y-2*x*y\n",
    "def HEUN(f,x_inf,x_sup,h,y_inf):\n",
    "    suma=0\n",
    "    n=(x_sup-x_inf)/h\n",
    "    n=int(n)\n",
    "    for i in range(n):\n",
    "        y_1=y_inf+h*f(x_inf,y_inf)\n",
    "        y_inf=y_inf+(h/2)*(f(x_inf,y_inf)+f(x_inf+h,y_1))\n",
    "        x_inf=x_inf+h\n",
    "        print(x_inf,y_inf,y_1)\n",
    "    print(y_inf)\n",
    "HEUN(f,1,1.75,0.25,2)"
   ]
  },
  {
   "cell_type": "code",
   "execution_count": 3,
   "metadata": {},
   "outputs": [
    {
     "name": "stdout",
     "output_type": "stream",
     "text": [
      "0.25 0.234375 0.25\n",
      "0.5 0.412841796875 0.455078125\n",
      "0.412841796875\n"
     ]
    }
   ],
   "source": [
    "def f(x,y):\n",
    "    return 1-2*x*y\n",
    "HEUN(f,0,0.5,0.25,0)"
   ]
  },
  {
   "cell_type": "code",
   "execution_count": null,
   "metadata": {},
   "outputs": [],
   "source": []
  }
 ],
 "metadata": {
  "kernelspec": {
   "display_name": "Python 3",
   "language": "python",
   "name": "python3"
  },
  "language_info": {
   "codemirror_mode": {
    "name": "ipython",
    "version": 3
   },
   "file_extension": ".py",
   "mimetype": "text/x-python",
   "name": "python",
   "nbconvert_exporter": "python",
   "pygments_lexer": "ipython3",
   "version": "3.8.5"
  }
 },
 "nbformat": 4,
 "nbformat_minor": 4
}

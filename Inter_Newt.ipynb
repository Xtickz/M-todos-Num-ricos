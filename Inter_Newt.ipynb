{
 "cells": [
  {
   "cell_type": "code",
   "execution_count": 9,
   "metadata": {},
   "outputs": [
    {
     "name": "stdout",
     "output_type": "stream",
     "text": [
      "Diferencias divididas:\n",
      "[1.       1.284003 1.648721 2.117    2.718281]\n",
      "[1.136012 1.458872 1.873116 2.405124]\n",
      "[0.64572  0.828488 1.064016]\n",
      "[0.24369067 0.31403733]\n",
      "[0.07034667]\n",
      "Polinomio P(x) interpolado por el metodo de Newton:\n",
      "1.7332447760000003\n"
     ]
    }
   ],
   "source": [
    "import numpy as np\n",
    "import sympy as sp\n",
    "x_p=np.array([0,0.25,0.5,0.75,1])#[0,1,-1,2,-2])\n",
    "P_x=np.array([1,1.284003,1.648721,2.117000,2.718281])#[-5,-3,-15,39,-9])\n",
    "print(\"Diferencias divididas:\")\n",
    "def In_Newt(x_p,P_x):\n",
    "    tam=np.size(x_p)\n",
    "    res=np.array([])\n",
    "    for it in range(0,tam):\n",
    "        x_p_1=np.array([])\n",
    "        tam_1=np.size(P_x)\n",
    "        print(P_x)\n",
    "        res=np.append(res,P_x[0])\n",
    "        for i in range(0,tam_1-1):\n",
    "            f_1=(P_x[i]-P_x[i+1])/(x_p[i]-x_p[i+1+it])\n",
    "            x_p_1=np.append(x_p_1,f_1)\n",
    "        P_x=x_p_1\n",
    "    return res\n",
    "F=In_Newt(x_p,P_x)    \n",
    "root=np.array([])\n",
    "Po=np.array([F[0]])\n",
    "for i in range(0,np.size(F)-1):\n",
    "    root=np.append(root,x_p[i])\n",
    "    Sum=F[i+1]*np.poly(root)\n",
    "    Po=np.polyadd(Po,Sum)\n",
    "print(\"Polinomio P(x) interpolado por el metodo de Newton:\")\n",
    "print(np.poly1d(Po)(0.55))"
   ]
  },
  {
   "cell_type": "code",
   "execution_count": 2,
   "metadata": {},
   "outputs": [
    {
     "name": "stdout",
     "output_type": "stream",
     "text": [
      "[ 4  8 14]\n",
      "[4. 6.]\n",
      "[1.]\n"
     ]
    },
    {
     "data": {
      "text/plain": [
       "array([4., 4., 1.])"
      ]
     },
     "execution_count": 2,
     "metadata": {},
     "output_type": "execute_result"
    }
   ],
   "source": [
    "x_p=np.array([1,2,3])\n",
    "P_x=np.array([4,8,14])\n",
    "In_Newt(x_p,P_x)  "
   ]
  },
  {
   "cell_type": "code",
   "execution_count": 3,
   "metadata": {},
   "outputs": [
    {
     "name": "stdout",
     "output_type": "stream",
     "text": [
      "[ 0 -1  2 -3  4 -5  6]\n",
      "[-1.  3. -5.  7. -9. 11.]\n",
      "[ 2. -4.  6. -8. 10.]\n",
      "[-2.          3.33333333 -4.66666667  6.        ]\n",
      "[ 1.33333333 -2.          2.66666667]\n",
      "[-0.66666667  0.93333333]\n",
      "[0.26666667]\n"
     ]
    },
    {
     "data": {
      "text/plain": [
       "array([ 0.        , -1.        ,  2.        , -2.        ,  1.33333333,\n",
       "       -0.66666667,  0.26666667])"
      ]
     },
     "execution_count": 3,
     "metadata": {},
     "output_type": "execute_result"
    }
   ],
   "source": [
    "x_p=np.array([0,1,2,3,4,5,6])\n",
    "Q_x=np.array([0,-1,2,-3,4,-5,6])\n",
    "In_Newt(x_p,Q_x)  "
   ]
  },
  {
   "cell_type": "code",
   "execution_count": null,
   "metadata": {},
   "outputs": [],
   "source": []
  },
  {
   "cell_type": "code",
   "execution_count": null,
   "metadata": {},
   "outputs": [],
   "source": []
  }
 ],
 "metadata": {
  "kernelspec": {
   "display_name": "Python 3",
   "language": "python",
   "name": "python3"
  },
  "language_info": {
   "codemirror_mode": {
    "name": "ipython",
    "version": 3
   },
   "file_extension": ".py",
   "mimetype": "text/x-python",
   "name": "python",
   "nbconvert_exporter": "python",
   "pygments_lexer": "ipython3",
   "version": "3.8.5"
  }
 },
 "nbformat": 4,
 "nbformat_minor": 4
}

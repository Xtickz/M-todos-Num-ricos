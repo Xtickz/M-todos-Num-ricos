{
 "cells": [
  {
   "cell_type": "code",
   "execution_count": 1,
   "metadata": {},
   "outputs": [
    {
     "name": "stdout",
     "output_type": "stream",
     "text": [
      "i   lim_inf   lim_sup     p_n      f(p_n)\n",
      "1  1.000000  1.500000  1.500000  8.890625\n",
      "2  1.000000  1.250000  1.250000  1.564697\n",
      "3  1.125000  1.250000  1.125000  -0.097713\n",
      "4  1.125000  1.187500  1.187500  0.616653\n",
      "5  1.125000  1.156250  1.156250  0.233269\n",
      "6  1.125000  1.140625  1.140625  0.061578\n",
      "7  1.132812  1.140625  1.132812  -0.019576\n",
      "8  1.132812  1.136719  1.136719  0.020619\n",
      "9  1.132812  1.134766  1.134766  0.000427\n",
      "10  1.133789  1.134766  1.133789  -0.009598\n",
      "11  1.134277  1.134766  1.134277  -0.004591\n",
      "12  1.134521  1.134766  1.134521  -0.002084\n",
      "13  1.134644  1.134766  1.134644  -0.000829\n",
      "14  1.134705  1.134766  1.134705  -0.000201\n",
      "15  1.134705  1.134735  1.134735  0.000113\n"
     ]
    },
    {
     "data": {
      "text/plain": [
       "1.134735107421875"
      ]
     },
     "execution_count": 1,
     "metadata": {},
     "output_type": "execute_result"
    }
   ],
   "source": [
    "%matplotlib inline\n",
    "import numpy as np\n",
    "import sympy as sp\n",
    "import matplotlib.pyplot as plt\n",
    "x=sp.symbols('x')\n",
    "f=x**6-x-1\n",
    "f_np=sp.lambdify(x,f,np)\n",
    "def Bisec(f_np,Tol,lim_sup,lim_inf):\n",
    "    n=np.log2((lim_sup-lim_inf)/Tol)\n",
    "    i=0\n",
    "    er=1\n",
    "    res=np.array([])\n",
    "    print(\"i   lim_inf   lim_sup     p_n      f(p_n)\")\n",
    "    while er>=Tol:\n",
    "        p_n=(lim_sup+lim_inf)/2\n",
    "        res=np.append(res,p_n)\n",
    "        if f_np(p_n)*f_np(lim_inf)<0:\n",
    "            lim_sup=p_n\n",
    "        else:\n",
    "            lim_inf=p_n\n",
    "        if i>1:\n",
    "            er=abs(res[i]-res[i-1])\n",
    "        else:\n",
    "            pass\n",
    "        i=i+1\n",
    "        print(i,end=\"  \")\n",
    "        print(\"{:.6f}\".format(lim_inf),end=\"  \")\n",
    "        print(\"{:.6f}\".format(lim_sup),end=\"  \")\n",
    "        print(\"{:.6f}\".format(p_n),end=\"  \")\n",
    "        print(\"{:.6f}\".format(f_np(p_n)))\n",
    "    return p_n,res\n",
    "raiz,array_p=Bisec(f_np,0.5*10**(-4),2,1)\n",
    "raiz"
   ]
  },
  {
   "cell_type": "code",
   "execution_count": 5,
   "metadata": {},
   "outputs": [
    {
     "name": "stdout",
     "output_type": "stream",
     "text": [
      "i   lim_inf   lim_sup     p_n      f(p_n)\n",
      "1  0.500000  1.000000  0.500000  -2.214713\n",
      "2  0.500000  0.750000  0.750000  0.937504\n",
      "3  0.625000  0.750000  0.625000  -1.179001\n",
      "4  0.687500  0.750000  0.687500  -0.337389\n",
      "5  0.687500  0.718750  0.718750  0.227768\n",
      "6  0.703125  0.718750  0.703125  -0.070020\n",
      "7  0.703125  0.710938  0.710938  0.074762\n",
      "8  0.703125  0.707031  0.707031  0.001385\n",
      "9  0.705078  0.707031  0.705078  -0.034559\n",
      "10  0.706055  0.707031  0.706055  -0.016648\n"
     ]
    },
    {
     "data": {
      "text/plain": [
       "0.7060546875"
      ]
     },
     "execution_count": 5,
     "metadata": {},
     "output_type": "execute_result"
    }
   ],
   "source": [
    "G_1=(x*(2.1-0.5*x)**(1/2))/((1-x)*(1.1-0.5*x)**(1/2)) -3.69\n",
    "G1_np=sp.lambdify(x,G_1,np)\n",
    "ra, arra=Bisec(G1_np,0.001,1,0)\n",
    "ra"
   ]
  },
  {
   "cell_type": "code",
   "execution_count": null,
   "metadata": {},
   "outputs": [],
   "source": [
    "G"
   ]
  },
  {
   "cell_type": "code",
   "execution_count": 2,
   "metadata": {},
   "outputs": [
    {
     "data": {
      "text/plain": [
       "[<matplotlib.lines.Line2D at 0x9e779a0>]"
      ]
     },
     "execution_count": 2,
     "metadata": {},
     "output_type": "execute_result"
    },
    {
     "data": {
      "image/png": "[encoded data removed]",
      "text/plain": [
       "<Figure size 432x288 with 1 Axes>"
      ]
     },
     "metadata": {
      "needs_background": "light"
     },
     "output_type": "display_data"
    }
   ],
   "source": [
    "t=np.linspace(1,2)\n",
    "plt.plot(t,f_np(t))\n",
    "plt.plot(array_p,np.zeros(array_p.shape),'o',color='red')"
   ]
  },
  {
   "cell_type": "code",
   "execution_count": 3,
   "metadata": {},
   "outputs": [
    {
     "name": "stdout",
     "output_type": "stream",
     "text": [
      "i   lim_inf   lim_sup     p_n      f(p_n)\n",
      "1  0.500000  1.000000  0.500000  -0.703698\n",
      "2  0.750000  1.000000  0.750000  -0.255904\n",
      "3  0.750000  0.875000  0.875000  0.088047\n",
      "4  0.812500  0.875000  0.812500  -0.096616\n",
      "5  0.843750  0.875000  0.843750  -0.007751\n",
      "6  0.843750  0.859375  0.859375  0.039239\n",
      "7  0.843750  0.851562  0.851562  0.015522\n",
      "8  0.843750  0.847656  0.847656  0.003831\n",
      "9  0.845703  0.847656  0.845703  -0.001973\n",
      "10  0.845703  0.846680  0.846680  0.000925\n",
      "11  0.846191  0.846680  0.846191  -0.000525\n",
      "12  0.846191  0.846436  0.846436  0.000200\n",
      "13  0.846313  0.846436  0.846313  -0.000162\n",
      "14  0.846313  0.846375  0.846375  0.000019\n",
      "15  0.846344  0.846375  0.846344  -0.000072\n",
      "16  0.846359  0.846375  0.846359  -0.000027\n",
      "17  0.846367  0.846375  0.846367  -0.000004\n",
      "18  0.846367  0.846371  0.846371  0.000007\n",
      "19  0.846367  0.846369  0.846369  0.000002\n",
      "20  0.846368  0.846369  0.846368  -0.000001\n"
     ]
    },
    {
     "data": {
      "text/plain": [
       "0.8463678359985352"
      ]
     },
     "execution_count": 3,
     "metadata": {},
     "output_type": "execute_result"
    }
   ],
   "source": [
    "f_1=sp.tan(x)+x**2-x-1\n",
    "f_np_1=sp.lambdify(x,f_1,np)\n",
    "raiz_1,array_p_1=Bisec(f_np_1,10**(-6),1,0)\n",
    "raiz_1"
   ]
  },
  {
   "cell_type": "code",
   "execution_count": 20,
   "metadata": {},
   "outputs": [
    {
     "data": {
      "image/png": "[encoded data removed]",
      "text/plain": [
       "<Figure size 432x288 with 1 Axes>"
      ]
     },
     "metadata": {
      "needs_background": "light"
     },
     "output_type": "display_data"
    }
   ],
   "source": [
    "def F_1(t):\n",
    "    return np.tan(t)+t**2-t-1\n",
    "t_1=np.linspace(0,1)\n",
    "fig, axes=plt.subplots(1,1)\n",
    "axes.plot(t_1,F_1(t_1))\n",
    "axes.set_xlim(0,1)\n",
    "axes.grid(True)\n",
    "#plt.plot(array_p_1,np.zeros(array_p_1.shape),'o',color='red')"
   ]
  },
  {
   "cell_type": "code",
   "execution_count": 7,
   "metadata": {},
   "outputs": [],
   "source": [
    "plt.plot?"
   ]
  },
  {
   "cell_type": "code",
   "execution_count": null,
   "metadata": {},
   "outputs": [],
   "source": []
  }
 ],
 "metadata": {
  "kernelspec": {
   "display_name": "Python 3",
   "language": "python",
   "name": "python3"
  },
  "language_info": {
   "codemirror_mode": {
    "name": "ipython",
    "version": 3
   },
   "file_extension": ".py",
   "mimetype": "text/x-python",
   "name": "python",
   "nbconvert_exporter": "python",
   "pygments_lexer": "ipython3",
   "version": "3.8.5"
  }
 },
 "nbformat": 4,
 "nbformat_minor": 4
}

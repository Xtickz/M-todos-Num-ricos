{
 "cells": [
  {
   "cell_type": "code",
   "execution_count": 20,
   "metadata": {},
   "outputs": [
    {
     "name": "stdout",
     "output_type": "stream",
     "text": [
      "El valor de s en binario es: 0\n",
      "El valor de c en binario es: 10110\n",
      "El valor de (1,f) en binario es: 1,0101001100\n",
      "El valor de 169.47  con la aproximación binaria de precisión doble es: 169.5\n"
     ]
    }
   ],
   "source": [
    "import numpy as np\n",
    "import sympy as sp\n",
    "#esta función es para obtener los residuos y cocientes para\n",
    "#formar el número binario \n",
    "def F_bin(x):\n",
    "    res=np.array([])\n",
    "    i=0\n",
    "    while i==0:\n",
    "        res_1=x%2\n",
    "        x=x//2\n",
    "        res=np.append(res,res_1)\n",
    "        if x==1:\n",
    "            res=np.append(res,x)\n",
    "            i=1\n",
    "    cont=-1\n",
    "    for m in res:\n",
    "        cont=cont+1\n",
    "    return res,cont+1\n",
    "#esta función es para convertir un número menor que cero en binario\n",
    "def F_bin_menor(x,n):\n",
    "    res=np.array([])\n",
    "    for i in range(0,n):\n",
    "        x=x*2\n",
    "        if x>1:\n",
    "            x=x-1\n",
    "            res=np.append(res,1)\n",
    "        else:\n",
    "            res=np.append(res,0)\n",
    "    cont=-1\n",
    "    for m in res:\n",
    "        cont=cont+1\n",
    "    return res,cont+1\n",
    "#esta función es para reordenar los residuos y ponerlos como un número binario\n",
    "def reorder(x,r):\n",
    "    res=np.array([])\n",
    "    for i in range(0,r):\n",
    "        res=np.append(res,x[r-i-1])\n",
    "    return res\n",
    "#esta función es para redondear el (1,f)\n",
    "def redon(a_1,a_2):\n",
    "    res=np.append(a_1,a_2)\n",
    "    cont=-1\n",
    "    for m in res:\n",
    "        cont=cont+1\n",
    "    for i in range(0,cont+1):\n",
    "        if res[cont-i]==0:\n",
    "            break\n",
    "        else:\n",
    "            res[cont-i]=0\n",
    "            res[cont-i-1]=res[cont-i-1]+1\n",
    "            if res[cont-i-1]==1:\n",
    "                return res\n",
    "            else:\n",
    "                pass\n",
    "    return res\n",
    "#esta fúncion es para calcular el valor con la doble precición\n",
    "def orden_2(x,N,M,s):\n",
    "    p=0\n",
    "    for i in range(0,N):\n",
    "        p=p + (x[i])*2**(N-i-1)\n",
    "    for j in range(N,M+N):\n",
    "        p=p + (x[j])*2**-(j-N+1)\n",
    "    if s!=0:\n",
    "        p=-1*p\n",
    "    else:\n",
    "        pass\n",
    "    return p\n",
    "#esta función es para tener (1,f) como string\n",
    "def orden_3(x,N,M):\n",
    "    p=''\n",
    "    for i in range(0,N+M-1):\n",
    "        if i==1:\n",
    "            p=p+','\n",
    "        m_1=int(x[i])\n",
    "        m=str(m_1)\n",
    "        p=p + m\n",
    "    return p\n",
    "#esta función es para tener c como string\n",
    "def Calculo_c(x):\n",
    "    m=np.log2(x)\n",
    "    m=int(m)\n",
    "    c=15+m\n",
    "    Arr,tam=F_bin(c)\n",
    "    new=reorder(Arr,tam)\n",
    "    p=''\n",
    "    for i in range(0,tam):\n",
    "        m_1=int(new[i])\n",
    "        m=str(m_1)\n",
    "        p=p+m\n",
    "    return p\n",
    "#esta función es para tener s como \n",
    "def Calculo_s(x):\n",
    "    if x>0:\n",
    "        s=0\n",
    "    else:\n",
    "        s=1\n",
    "    return s\n",
    "s=1\n",
    "c=5\n",
    "f=10\n",
    "number=169.47\n",
    "#-np.pi**4\n",
    "entero=abs(int(number))\n",
    "decimal=abs(number-int(number))\n",
    "Array_1,tam_1=F_bin(entero)\n",
    "N=f-tam_1+2\n",
    "Array_2,tam_2=F_bin_menor(decimal,N)\n",
    "new=reorder(Array_1,tam_1)\n",
    "Total=redon(new,Array_2)\n",
    "f_bit=orden_3(Total,tam_1,tam_2)\n",
    "c_bit=Calculo_c(abs(number))\n",
    "s_bit=Calculo_s(number)\n",
    "Valor=orden_2(Total,tam_1,tam_2,s_bit)\n",
    "print(\"El valor de s en binario es:\",s_bit)\n",
    "print(\"El valor de c en binario es:\",c_bit)\n",
    "print(\"El valor de (1,f) en binario es:\",f_bit)\n",
    "print(\"El valor de\",number,\" con la aproximación binaria de precisión doble es:\",Valor)"
   ]
  },
  {
   "cell_type": "code",
   "execution_count": 8,
   "metadata": {},
   "outputs": [
    {
     "data": {
      "text/plain": [
       "5"
      ]
     },
     "execution_count": 8,
     "metadata": {},
     "output_type": "execute_result"
    }
   ],
   "source": []
  },
  {
   "cell_type": "code",
   "execution_count": 21,
   "metadata": {},
   "outputs": [
    {
     "data": {
      "text/latex": [
       "$\\displaystyle -2.22324427548393$"
      ],
      "text/plain": [
       "-2.22324427548393"
      ]
     },
     "execution_count": 21,
     "metadata": {},
     "output_type": "execute_result"
    }
   ],
   "source": [
    "x=sp.symbols('x')\n",
    "y=sp.symbols('y')\n",
    "f=(x)*sp.cos(x)\n",
    "sp.N(sp.diff(f,x,2).subs(x,1))"
   ]
  },
  {
   "cell_type": "code",
   "execution_count": 18,
   "metadata": {},
   "outputs": [
    {
     "data": {
      "text/latex": [
       "$\\displaystyle -0.5$"
      ],
      "text/plain": [
       "-0.500000000000000"
      ]
     },
     "execution_count": 18,
     "metadata": {},
     "output_type": "execute_result"
    }
   ],
   "source": [
    "fw=sp.diff(f,x)\n",
    "sp.diff(fw,y)\n",
    "sp.N(sp.diff(fw,y).subs(x,0).subs(y,0))"
   ]
  },
  {
   "cell_type": "code",
   "execution_count": 13,
   "metadata": {},
   "outputs": [
    {
     "data": {
      "text/latex": [
       "$\\displaystyle - \\frac{x \\left(\\frac{x \\left(y + 1\\right)}{4 \\left(- x y + 1\\right)} + 1\\right) \\cos{\\left(x \\right)}}{\\sqrt{- x y + 1}}$"
      ],
      "text/plain": [
       "-x*(x*(y + 1)/(4*(-x*y + 1)) + 1)*cos(x)/sqrt(-x*y + 1)"
      ]
     },
     "execution_count": 13,
     "metadata": {},
     "output_type": "execute_result"
    }
   ],
   "source": [
    "sp.diff(f,y,2)"
   ]
  },
  {
   "cell_type": "code",
   "execution_count": 23,
   "metadata": {},
   "outputs": [
    {
     "data": {
      "text/latex": [
       "$\\displaystyle - (x \\cos{\\left(x \\right)} + 2 \\sin{\\left(x \\right)})$"
      ],
      "text/plain": [
       "-(x*cos(x) + 2*sin(x))"
      ]
     },
     "execution_count": 23,
     "metadata": {},
     "output_type": "execute_result"
    }
   ],
   "source": [
    "sp.diff(f,x,2)"
   ]
  },
  {
   "cell_type": "code",
   "execution_count": null,
   "metadata": {},
   "outputs": [],
   "source": []
  }
 ],
 "metadata": {
  "kernelspec": {
   "display_name": "Python 3",
   "language": "python",
   "name": "python3"
  },
  "language_info": {
   "codemirror_mode": {
    "name": "ipython",
    "version": 3
   },
   "file_extension": ".py",
   "mimetype": "text/x-python",
   "name": "python",
   "nbconvert_exporter": "python",
   "pygments_lexer": "ipython3",
   "version": "3.8.5"
  }
 },
 "nbformat": 4,
 "nbformat_minor": 4
}

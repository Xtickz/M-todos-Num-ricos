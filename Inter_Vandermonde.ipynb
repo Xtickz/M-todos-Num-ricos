{
 "cells": [
  {
   "cell_type": "code",
   "execution_count": 8,
   "metadata": {},
   "outputs": [
    {
     "name": "stdout",
     "output_type": "stream",
     "text": [
      "Coeficientes del polinomio [-5.  4. -7.  2.  3.]\n",
      "Polinomio P(x) interpolado por el método de coeficientes indeterminados:\n",
      "   4     3     2\n",
      "3 x + 2 x - 7 x + 4 x - 5\n"
     ]
    }
   ],
   "source": [
    "%matplotlib inline\n",
    "import numpy as np\n",
    "import sympy as sp\n",
    "import matplotlib.pyplot as plt\n",
    "x_p=np.array([0,1,-1,2,-2])\n",
    "Q_x=np.array([-5,-3,-15,39,-9])\n",
    "def Inter_Vander(x_p,Q_x):\n",
    "    tam=np.size(x_p)\n",
    "    On=np.ones((tam,tam))\n",
    "    for m in range(0,tam):\n",
    "        for n in range(0,tam):\n",
    "            On[m][n]=(x_p[m])**(n)\n",
    "    res=np.matmul(np.linalg.inv(On),Q_x)\n",
    "    return res \n",
    "a=Inter_Vander(x_p,Q_x)\n",
    "print(\"Coeficientes del polinomio\",a)\n",
    "a_on=a[-1::-1]\n",
    "print(\"Polinomio P(x) interpolado por el método de coeficientes indeterminados:\")\n",
    "print(np.poly1d(a_on))"
   ]
  },
  {
   "cell_type": "code",
   "execution_count": 2,
   "metadata": {},
   "outputs": [
    {
     "data": {
      "image/png": "[encoded data removed]",
      "text/plain": [
       "<Figure size 432x288 with 1 Axes>"
      ]
     },
     "metadata": {
      "needs_background": "light"
     },
     "output_type": "display_data"
    }
   ],
   "source": [
    "def P(x):\n",
    "    return 3*x**4 +2*x**3 -7*x**2 +4*x-5\n",
    "x=np.linspace(-3,3)\n",
    "plt.plot(x,P(x),color='blue')\n",
    "plt.plot(x_p,Q_x,'o',color='red')\n",
    "plt.grid(True)"
   ]
  },
  {
   "cell_type": "code",
   "execution_count": 3,
   "metadata": {},
   "outputs": [
    {
     "data": {
      "text/plain": [
       "array([2., 1., 1.])"
      ]
     },
     "execution_count": 3,
     "metadata": {},
     "output_type": "execute_result"
    }
   ],
   "source": [
    "x_p=np.array([1,2,3])\n",
    "Q_x=np.array([4,8,14])\n",
    "Inter_Vander(x_p,Q_x)"
   ]
  },
  {
   "cell_type": "code",
   "execution_count": 4,
   "metadata": {},
   "outputs": [
    {
     "data": {
      "text/plain": [
       "array([ 7.27000000e+02, -4.75450000e+02,  1.29922222e+02, -1.89791667e+01,\n",
       "        1.57638889e+00, -7.08333333e-02,  1.38888889e-03])"
      ]
     },
     "execution_count": 4,
     "metadata": {},
     "output_type": "execute_result"
    }
   ],
   "source": [
    "x_p=np.array([8,9,10,11,12,13,14])\n",
    "Q_x=np.array([21,34,55,89,144,233,377])\n",
    "b=Inter_Vander(x_p,Q_x)\n",
    "b"
   ]
  },
  {
   "cell_type": "code",
   "execution_count": 5,
   "metadata": {},
   "outputs": [
    {
     "data": {
      "image/png": "[encoded data removed]",
      "text/plain": [
       "<Figure size 432x288 with 1 Axes>"
      ]
     },
     "metadata": {
      "needs_background": "light"
     },
     "output_type": "display_data"
    }
   ],
   "source": [
    "def P_1(x,b):\n",
    "    return b[6]*x**6 +b[5]*x**5+b[4]*x**4+b[3]*x**3+b[2]*x**2+b[1]*x+b[0]\n",
    "x=np.linspace(7,15)\n",
    "plt.plot(x,P_1(x,b),color='blue')\n",
    "plt.plot(x_p,Q_x,'o',color='red')\n",
    "plt.grid(True)"
   ]
  },
  {
   "cell_type": "code",
   "execution_count": 6,
   "metadata": {},
   "outputs": [
    {
     "data": {
      "text/plain": [
       "609.000000130538"
      ]
     },
     "execution_count": 6,
     "metadata": {},
     "output_type": "execute_result"
    }
   ],
   "source": [
    "P_1(15,b)"
   ]
  },
  {
   "cell_type": "code",
   "execution_count": 7,
   "metadata": {},
   "outputs": [
    {
     "data": {
      "text/plain": [
       "poly1d([ 2.20000000e-04,  9.96979167e-01,  1.35416667e-02, -1.93229167e-01,\n",
       "        2.39583333e-02])"
      ]
     },
     "execution_count": 7,
     "metadata": {},
     "output_type": "execute_result"
    }
   ],
   "source": [
    "x_p= np.array([0,0.2,0.4,0.6,0.8,1])\n",
    "Q_x= np.array([0,0.03973,0.15577,0.33879,0.57388,0.84147]) \n",
    "poli=Inter_Vander(x_p,Q_x)\n",
    "np.poly1d(poli)"
   ]
  },
  {
   "cell_type": "code",
   "execution_count": 15,
   "metadata": {},
   "outputs": [],
   "source": [
    "np.poly1d?"
   ]
  },
  {
   "cell_type": "code",
   "execution_count": null,
   "metadata": {},
   "outputs": [],
   "source": []
  }
 ],
 "metadata": {
  "kernelspec": {
   "display_name": "Python 3",
   "language": "python",
   "name": "python3"
  },
  "language_info": {
   "codemirror_mode": {
    "name": "ipython",
    "version": 3
   },
   "file_extension": ".py",
   "mimetype": "text/x-python",
   "name": "python",
   "nbconvert_exporter": "python",
   "pygments_lexer": "ipython3",
   "version": "3.8.5"
  }
 },
 "nbformat": 4,
 "nbformat_minor": 4
}
